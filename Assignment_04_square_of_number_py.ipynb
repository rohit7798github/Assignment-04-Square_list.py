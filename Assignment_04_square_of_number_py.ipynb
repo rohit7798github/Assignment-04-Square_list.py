{
  "nbformat": 4,
  "nbformat_minor": 0,
  "metadata": {
    "colab": {
      "provenance": [],
      "authorship_tag": "ABX9TyPi4tlPtDPx9y0uyNw0iK+K",
      "include_colab_link": true
    },
    "kernelspec": {
      "name": "python3",
      "display_name": "Python 3"
    },
    "language_info": {
      "name": "python"
    }
  },
  "cells": [
    {
      "cell_type": "markdown",
      "metadata": {
        "id": "view-in-github",
        "colab_type": "text"
      },
      "source": [
        "<a href=\"https://colab.research.google.com/github/rohit7798github/Assignment-04-Square_list.py/blob/main/Assignment_04_square_of_number_py.ipynb\" target=\"_parent\"><img src=\"https://colab.research.google.com/assets/colab-badge.svg\" alt=\"Open In Colab\"/></a>"
      ]
    },
    {
      "cell_type": "code",
      "execution_count": 1,
      "metadata": {
        "colab": {
          "base_uri": "https://localhost:8080/"
        },
        "id": "Bda2UXN5tp3a",
        "outputId": "f71c9549-ec06-4451-a2a2-59d68a83e4a5"
      },
      "outputs": [
        {
          "output_type": "stream",
          "name": "stdout",
          "text": [
            "Square the elements of the list: [16, 25, 4, 81]\n"
          ]
        }
      ],
      "source": [
        "def square_of_number(num):\n",
        "    return num**2\n",
        "\n",
        "numbers=[4,5,2,9]\n",
        "squares=list(map(square_of_number,numbers))\n",
        "print('Square the elements of the list:',squares)"
      ]
    }
  ]
}